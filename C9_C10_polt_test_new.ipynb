{
 "cells": [
  {
   "cell_type": "code",
   "execution_count": 1,
   "metadata": {},
   "outputs": [
    {
     "data": {
      "text/plain": [
       "'2.3.3'"
      ]
     },
     "execution_count": 1,
     "metadata": {},
     "output_type": "execute_result"
    }
   ],
   "source": [
    "import matplotlib.pyplot as plt\n",
    "import numpy as np\n",
    "import flavio\n",
    "import flavio.plots as fp\n",
    "\n",
    "from flavio.statistics.likelihood import FastLikelihood\n",
    "from wilson import Wilson\n",
    "\n",
    "flavio.__version__"
   ]
  },
  {
   "cell_type": "code",
   "execution_count": 2,
   "metadata": {},
   "outputs": [
    {
     "data": {
      "text/plain": [
       "['LHCb Bs->mumu hi-lumi',\n",
       " 'LHCb RK and RK* hi-lumi',\n",
       " 'AS Bs->mumu BR average March 2021',\n",
       " 'HFLAV Bs->mumu BR average October 2022',\n",
       " 'CDF Bs->mumu BR July 2011',\n",
       " 'CDF Lambdab->Lambdamumu BR July 2011',\n",
       " 'CDF B+->Kmumu BR July 2011',\n",
       " 'CDF B+->Kmumu BR November 2011',\n",
       " 'CDF B0->Kmumu BR July 2011',\n",
       " 'CDF B0->Kmumu BR November 2011',\n",
       " 'CDF B0->K*mumu BR July 2011',\n",
       " 'CDF B0->K*mumu BR November 2011',\n",
       " 'CDF B+->K*mumu BR July 2011',\n",
       " 'CDF B+->K*mumu BR November 2011',\n",
       " 'CDF Bs->phimumu BR July 2011',\n",
       " 'CDF B0->K*mumu angular August 2011',\n",
       " 'CDF B0->K*mumu CP August 2011',\n",
       " 'CDF B+->Kmumu angular August 2011',\n",
       " 'CDF Lambdab->Lambdamumu BR July 2012',\n",
       " 'CDF B+->Kmumu BR July 2012',\n",
       " 'CDF B0->Kmumu BR July 2012',\n",
       " 'CDF B0->K*mumu BR July 2012',\n",
       " 'CDF B+->K*mumu BR July 2012',\n",
       " 'CDF Bs->phimumu BR July 2012',\n",
       " 'CDF B0->K*mumu angular July 2012',\n",
       " 'CDF B0->K*mumu CP July 2012',\n",
       " 'CDF B+->Kmumu angular July 2012',\n",
       " 'Belle B->Xsee BR December 2013',\n",
       " 'Belle B->Xsmumu BR December 2013',\n",
       " 'Belle B0->K*ll angular LFU December 2016',\n",
       " 'Belle RK* April 2019',\n",
       " 'Belle RK* September 2020',\n",
       " 'Belle RK August 2019',\n",
       " 'Belle B+->Kmumu BR August 2019',\n",
       " 'Belle B0->Kmumu BR August 2019',\n",
       " 'Belle RK September 2020',\n",
       " 'Belle B+->Kmumu BR September 2020',\n",
       " 'Belle B0->Kmumu BR September 2020',\n",
       " 'ATLAS Bs->mumu BR April 2012',\n",
       " 'ATLAS B0->K*mumu angular April 2013',\n",
       " 'ATLAS Bs->mumu BR April 2016',\n",
       " 'ATLAS B0->K*mumu angular April 2017',\n",
       " 'ATLAS B0->K*mumu angular 0.04-2 May 2018',\n",
       " 'ATLAS B0->K*mumu angular 2-4 May 2018',\n",
       " 'ATLAS B0->K*mumu angular 4-6 May 2018',\n",
       " 'ATLAS Bs->mumu BR December 2018',\n",
       " 'CMS and LHCb Bs->mumu BR August 2011',\n",
       " 'CMS Bs->mumu BR March 2012',\n",
       " 'CMS Bs->mumu BR July 2013',\n",
       " 'CMS B0->K*mumu BR August 2013',\n",
       " 'CMS B0->K*mumu BR November 2013',\n",
       " 'CMS B0->K*mumu angular August 2013',\n",
       " 'CMS and LHCb Bs->mumu BR November 2014',\n",
       " 'CMS B0->K*mumu BR July 2015',\n",
       " 'CMS B0->K*mumu angular July 2015',\n",
       " 'CMS B0->K*mumu BR December 2015',\n",
       " 'CMS B0->K*mumu angular December 2015',\n",
       " 'CMS B0->K*mumu angular March 2017',\n",
       " 'CMS Bs->mumu BR October 2019',\n",
       " 'CMS Bs->mumu BR May 2020',\n",
       " 'CMS Bs->mumu effective lifetime October 2019',\n",
       " 'CMS Bs->mumu BR July 2022',\n",
       " 'CMS Bs->mumu effective lifetime July 2022',\n",
       " 'LHCb B0->K*mumu BR August 2011',\n",
       " 'LHCb B0->K*mumu angular August 2011',\n",
       " 'LHCb Bs->mumu BR March 2012',\n",
       " 'LHCb B0->Kmumu BR May 2012',\n",
       " 'LHCb B+->K*mumu BR May 2012',\n",
       " 'LHCb B0->K*mumu BR June 2012',\n",
       " 'LHCb B0->K*mumu angular June 2012',\n",
       " 'LHCb B+->Kmumu BR September 2012',\n",
       " 'LHCb B+->Kmumu angular September 2012',\n",
       " 'LHCb B0->K*mumu BR April 2013',\n",
       " 'LHCb B0->K*mumu angular April 2013',\n",
       " 'LHCb B0->K*mumu CP April 2013',\n",
       " 'LHCb Bs->phimumu BR May 2013',\n",
       " 'LHCb Bs->phimumu angular May 2013',\n",
       " 'LHCb Bs->mumu BR July 2013',\n",
       " 'LHCb B0->K*mumu angular August 2013',\n",
       " 'LHCb B+->Kmumu angular March 2014',\n",
       " 'LHCb B+->Kmumu BR March 2014',\n",
       " 'LHCb B0->Kmumu BR March 2014',\n",
       " 'LHCb B+->K*mumu BR March 2014',\n",
       " 'LHCb RK June 2014',\n",
       " 'LHCb B0->K*mumu angular 0.1-0.98 March 2015',\n",
       " 'LHCb B0->K*mumu angular 1.1-2.5 March 2015',\n",
       " 'LHCb B0->K*mumu angular 2.5-4 March 2015',\n",
       " 'LHCb B0->K*mumu angular 4-6 March 2015',\n",
       " 'LHCb B0->K*mumu angular 15-19 March 2015',\n",
       " 'LHCb Lambdab->Lambdamumu BR March 2015',\n",
       " 'LHCb Bs->phimumu BR June 2015',\n",
       " 'LHCb Bs->phimumu angular 1-6 June 2015',\n",
       " 'LHCb Bs->phimumu angular 15-19 June 2015',\n",
       " 'LHCb B0->K*mumu angular 0.1-0.98 December 2015',\n",
       " 'LHCb B0->K*mumu angular 1.1-2.5 December 2015',\n",
       " 'LHCb B0->K*mumu angular 2.5-4 December 2015',\n",
       " 'LHCb B0->K*mumu angular 4-6 December 2015',\n",
       " 'LHCb B0->K*mumu angular 15-19 December 2015',\n",
       " 'LHCb B0->K*mumu CP 0.1-0.98 December 2015',\n",
       " 'LHCb B0->K*mumu CP 1.1-2.5 December 2015',\n",
       " 'LHCb B0->K*mumu CP 2.5-4 December 2015',\n",
       " 'LHCb B0->K*mumu CP 4-6 December 2015',\n",
       " 'LHCb B0->K*mumu CP 15-19 December 2015',\n",
       " 'LHCb B0->K*mumu BR June 2016',\n",
       " 'LHCb B0->K*mumu BR April 2017',\n",
       " 'LHCb Bs->mumu BR March 2017',\n",
       " 'LHCb Bs->mumu effective lifetime March 2017',\n",
       " 'LHCb RK* May 2017',\n",
       " 'LHCb Lambdab->Lambdamumu angular August 2018',\n",
       " 'LHCb RK March 2019',\n",
       " 'LHCb B0->K*mumu angular 0.1-0.98 March 2020',\n",
       " 'LHCb B0->K*mumu angular 1.1-2.5 March 2020',\n",
       " 'LHCb B0->K*mumu angular 2.5-4 March 2020',\n",
       " 'LHCb B0->K*mumu angular 4-6 March 2020',\n",
       " 'LHCb B0->K*mumu angular 15-19 March 2020',\n",
       " 'LHCb B+->K*mumu angular 0.1-0.98 December 2020',\n",
       " 'LHCb B+->K*mumu angular 1.1-2.5 December 2020',\n",
       " 'LHCb B+->K*mumu angular 2.5-4 December 2020',\n",
       " 'LHCb B+->K*mumu angular 4-6 December 2020',\n",
       " 'LHCb B+->K*mumu angular 15-19 December 2020',\n",
       " 'ATLAS CMS LHCb Bs->mumu BR August 2020',\n",
       " 'CMS LHCb Bs->mumu effective lifetime August 2020',\n",
       " 'LHCb Bs->mumu BR August 2021',\n",
       " 'LHCb Bs->mumu effective lifetime August 2021',\n",
       " 'LHCb RK March 2021',\n",
       " 'LHCb Bs->phimumu BR May 2021',\n",
       " 'LHCb Bs->phimumu angular 0.1-0.98 July 2021',\n",
       " 'LHCb Bs->phimumu angular 1.1-4 July 2021',\n",
       " 'LHCb Bs->phimumu angular 4-6 July 2021',\n",
       " 'LHCb Bs->phimumu angular 15-18.9 July 2021',\n",
       " 'LHCb RKS October 2021',\n",
       " 'LHCb RK*+ October 2021',\n",
       " 'LHCb RK and RK* December 2022']"
      ]
     },
     "execution_count": 2,
     "metadata": {},
     "output_type": "execute_result"
    }
   ],
   "source": [
    "flavio.measurements.read_file('my_bsll_measurements.yml')"
   ]
  },
  {
   "cell_type": "code",
   "execution_count": 9,
   "metadata": {},
   "outputs": [],
   "source": [
    "# This is a test, using the list from \"November 10, 2011\" from the \"bsll_dates.txt\" file.\n",
    "# I am simply copying the list from the file, and call that list \"my_measurements\"\n",
    "\n",
    "my_measurements = [\n",
    "    'CDF Bs->mumu BR July 2011', \n",
    "    'CDF Lambdab->Lambdamumu BR July 2011', \n",
    "    'CDF B+->Kmumu BR November 2011', \n",
    "    'CDF B0->Kmumu BR November 2011', \n",
    "    'CDF B0->K*mumu BR November 2011', \n",
    "    'CDF B+->K*mumu BR November 2011', \n",
    "    'CDF Bs->phimumu BR July 2011', \n",
    "    'CDF B0->K*mumu angular August 2011', \n",
    "    'CDF B0->K*mumu CP August 2011', \n",
    "    'CDF B+->Kmumu angular August 2011', \n",
    "    'CMS and LHCb Bs->mumu BR August 2011', \n",
    "    'LHCb B0->K*mumu BR August 2011', \n",
    "    'LHCb B0->K*mumu angular August 2011',\n",
    "]\n",
    "\n",
    "# The tricky part is to figure out which observables one needs to include.\n",
    "# I went to the \"my_bsll_measurements.yml\" file, searched for all the entries above,\n",
    "# and enter all the observables in a new list, that I call \"all_observables\"\n",
    "\n",
    "my_observables = [\n",
    "    'BR(Bs->mumu)', \n",
    "    ('<dBR/dq2>(Lambdab->Lambdamumu)', 1.0, 6.0),\n",
    "    ('<dBR/dq2>(B+->Kmumu)', 1.0, 6.0),\n",
    "    ('<dBR/dq2>(B0->Kmumu)', 1.0, 6.0),\n",
    "    ('<dBR/dq2>(B0->K*mumu)', 1.0, 6.0),\n",
    "    ('<dBR/dq2>(B+->K*mumu)', 1.0, 6.0),\n",
    "    ('<dBR/dq2>(Bs->phimumu)', 1.0, 6.0),\n",
    "    ('<FL>(B0->K*mumu)', 1.0, 6.0),\n",
    "    ('<AFB>(B0->K*mumu)', 1.0, 6.0),\n",
    "    ('<P1>(B0->K*mumu)', 1.0, 6.0),\n",
    "    ('<A9>(B0->K*mumu)', 1.0, 6.0),\n",
    "#    ('<AFB>(B+->Kmumu)', 1.0, 6.0),  for some reason, that one slows down everything by a lot. I therefore ignore it\n",
    "]"
   ]
  },
  {
   "cell_type": "code",
   "execution_count": 10,
   "metadata": {},
   "outputs": [],
   "source": [
    "# this tells flavio to use the measurements and observables in the lists above\n",
    "\n",
    "FL_my_fit = FastLikelihood(\n",
    "    name = 'my_fit',\n",
    "    observables = my_observables,\n",
    "    include_measurements = my_measurements\n",
    "    )"
   ]
  },
  {
   "cell_type": "code",
   "execution_count": 11,
   "metadata": {},
   "outputs": [],
   "source": [
    "# here I am updating some of the imput parameters for flavio \n",
    "# (this is unrelated to what we are trying to do, but should be done in any case)\n",
    "\n",
    "flavio.default_parameters.set_constraint('Vcb', '4.08(14)e-2')\n",
    "flavio.default_parameters.set_constraint('Vub', '3.82(20)e-3')\n",
    "flavio.default_parameters.set_constraint('Vus', '0.2243(8)')\n",
    "flavio.default_parameters.set_constraint('delta', '1.15(6)')"
   ]
  },
  {
   "cell_type": "code",
   "execution_count": 12,
   "metadata": {},
   "outputs": [
    {
     "name": "stdout",
     "output_type": "stream",
     "text": [
      "CPU times: user 480 ms, sys: 91.2 ms, total: 571 ms\n",
      "Wall time: 5.69 s\n"
     ]
    }
   ],
   "source": [
    "%%time\n",
    "\n",
    "# this is the command to let flavio perform the fit\n",
    "# N should be as large as possible for a \"real\" plot (ideally something like 10000). \n",
    "# To get a quick result N = 100 is probably OK\n",
    "\n",
    "FL_my_fit.make_measurement(N = 100, threads = 6)"
   ]
  },
  {
   "cell_type": "code",
   "execution_count": 13,
   "metadata": {},
   "outputs": [],
   "source": [
    "# based on the above fit, this defines a likelihood function that can be plotted \n",
    "\n",
    "def FLL_my_fit(x):\n",
    "    C9 , C10 = x\n",
    "    par = flavio.default_parameters.get_central_all()\n",
    "    wc = Wilson({'C9_bsmumu': C9, 'C10_bsmumu': C10}, scale=4.8, eft='WET', basis='flavio')\n",
    "    return FL_my_fit.log_likelihood(par, wc)"
   ]
  },
  {
   "cell_type": "code",
   "execution_count": 14,
   "metadata": {
    "scrolled": true
   },
   "outputs": [
    {
     "name": "stderr",
     "output_type": "stream",
     "text": [
      "/usr/lib/python3.6/site-packages/flavio/plots/plotfunctions.py:660: UserWarning: The smallest `z` value on the grid will be used as the minimum of the function to plot. This can lead to undesired results if the actual minimum is considerably different from the minimum on the grid. For better precision, the actual minimum should be provided in the `z_min` argument.\n",
      "  warnings.warn(\"The smallest `z` value on the grid will be used as the \"\n"
     ]
    },
    {
     "data": {
      "image/png": "[encoded data removed]",
      "text/plain": [
       "<Figure size 432x432 with 1 Axes>"
      ]
     },
     "metadata": {
      "needs_background": "light"
     },
     "output_type": "display_data"
    }
   ],
   "source": [
    "# and here is the plot \n",
    "\n",
    "plt.rc('xtick',labelsize=12)\n",
    "plt.rc('ytick',labelsize=12)\n",
    "\n",
    "fig = plt.figure(1, figsize = [6, 6])\n",
    "fp.likelihood_contour(FLL_my_fit, -2, 1, -1, 2, n_sigma = (1, 2), label = 'my test fit', \n",
    "                      steps = 10, col = 3, threads = 6)\n",
    "# steps = 10 is only for illustration; to get nice looking plots use at least 50 steps\n",
    "# note that already with steps = 10 it can take several minutes if many observables are included\n",
    "\n",
    "# this adds the \"flavio\" logo to the plot\n",
    "fp.flavio_branding()\n",
    "plt.legend(loc = 'upper left', fontsize = 12)\n",
    "\n",
    "# this are the axes labels\n",
    "plt.xlabel(r\"$\\Delta C_{9}^{\\mu}$\",fontsize = 20)\n",
    "plt.ylabel(r\"$\\Delta C_{10}^{\\mu}$\",fontsize = 20)\n",
    "\n",
    "# this adds the grey lines that cross at (0,0)\n",
    "plt.axhline(y = 0.0, linewidth = 0.3, color = 'grey')\n",
    "plt.axvline(x = 0.0, linewidth = 0.3, color = 'grey')\n",
    "x = np.linspace(-1,1,100)\n",
    "plt.plot(x,x, linewidth = 0.3, color = 'grey')\n",
    "x = np.linspace(-2,1,100)\n",
    "plt.plot(x,-x, linewidth = 0.3, color = 'grey')\n",
    "\n",
    "# plt.savefig(\"C9_C10_test.pdf\")\n",
    "plt.show()"
   ]
  },
  {
   "cell_type": "code",
   "execution_count": 15,
   "metadata": {},
   "outputs": [],
   "source": [
    "from iminuit import minimize\n",
    "# this is a minimization package that we use to determine the best fit point"
   ]
  },
  {
   "cell_type": "code",
   "execution_count": 16,
   "metadata": {},
   "outputs": [
    {
     "data": {
      "text/plain": [
       "      fun: -238.31386756557305\n",
       " hess_inv: array([[1.05520929, 0.31112224],\n",
       "       [0.31112224, 0.35260396]])\n",
       "  message: 'Optimization terminated successfully.'\n",
       "   minuit: <iminuit._libiminuit.Minuit object at 0x55778eab2258>\n",
       "     nfev: 45\n",
       "     njev: 0\n",
       "  success: True\n",
       "        x: array([-1.52816581, -0.10341554])"
      ]
     },
     "execution_count": 16,
     "metadata": {},
     "output_type": "execute_result"
    }
   ],
   "source": [
    "# approximate the log likelihood with gaussians\n",
    "# uncertainties and correlation are encoded in the Hessian \n",
    "def to_minimize(x): return -2*FLL_my_fit(x)\n",
    "minimize(to_minimize,(0,0))"
   ]
  },
  {
   "cell_type": "code",
   "execution_count": null,
   "metadata": {},
   "outputs": [],
   "source": []
  }
 ],
 "metadata": {
  "kernelspec": {
   "display_name": "Python 3",
   "language": "python",
   "name": "python3"
  },
  "language_info": {
   "codemirror_mode": {
    "name": "ipython",
    "version": 3
   },
   "file_extension": ".py",
   "mimetype": "text/x-python",
   "name": "python",
   "nbconvert_exporter": "python",
   "pygments_lexer": "ipython3",
   "version": "3.6.12"
  }
 },
 "nbformat": 4,
 "nbformat_minor": 4
}
